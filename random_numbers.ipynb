{
 "cells": [
  {
   "cell_type": "code",
   "execution_count": 1,
   "id": "54addbca",
   "metadata": {},
   "outputs": [],
   "source": [
    "# Import the random module.\n",
    "# 6.1.4 not quite working at the beginning...\n",
    "\n",
    "import random"
   ]
  },
  {
   "cell_type": "markdown",
   "id": "17cae2ee",
   "metadata": {},
   "source": [
    "random.randint(-90, 90)"
   ]
  },
  {
   "cell_type": "raw",
   "id": "084bfabb",
   "metadata": {},
   "source": [
    "random.random()"
   ]
  },
  {
   "cell_type": "code",
   "execution_count": 3,
   "id": "f22e3c34",
   "metadata": {},
   "outputs": [
    {
     "data": {
      "text/plain": [
       "40.15412018658325"
      ]
     },
     "execution_count": 3,
     "metadata": {},
     "output_type": "execute_result"
    }
   ],
   "source": [
    "random_number = random.randint(-90, 89) + random.random()\n",
    "random_number"
   ]
  },
  {
   "cell_type": "code",
   "execution_count": 4,
   "id": "2665fddc",
   "metadata": {},
   "outputs": [],
   "source": [
    "x = 1\n",
    "latitudes = []\n",
    "while x < 11:\n",
    "    random_lat = random.randint(-90, 89) + random.random()\n",
    "    latitudes.append(random_lat)\n",
    "    x += 1"
   ]
  },
  {
   "cell_type": "code",
   "execution_count": 6,
   "id": "2240af41",
   "metadata": {},
   "outputs": [
    {
     "name": "stdout",
     "output_type": "stream",
     "text": [
      "[41.22206391265593, 0.319846602802774, -87.98779396806606, 63.632879935527434, -6.272488768954698, -18.646306297921797, 28.485401648181117, -5.429499882451005, -49.16174584053894, 80.43282519726894]\n"
     ]
    }
   ],
   "source": [
    "# adding print to see the results works (phew)\n",
    "print(latitudes)"
   ]
  },
  {
   "cell_type": "code",
   "execution_count": 7,
   "id": "78aa33c4",
   "metadata": {},
   "outputs": [
    {
     "data": {
      "text/plain": [
       "21"
      ]
     },
     "execution_count": 7,
     "metadata": {},
     "output_type": "execute_result"
    }
   ],
   "source": [
    "random.randrange(-90, 90, step=1)"
   ]
  },
  {
   "cell_type": "code",
   "execution_count": 8,
   "id": "a8562212",
   "metadata": {},
   "outputs": [
    {
     "data": {
      "text/plain": [
       "-27"
      ]
     },
     "execution_count": 8,
     "metadata": {},
     "output_type": "execute_result"
    }
   ],
   "source": [
    "random.randrange(-90, 90, step=3)"
   ]
  },
  {
   "cell_type": "code",
   "execution_count": 9,
   "id": "519dbb08",
   "metadata": {},
   "outputs": [
    {
     "data": {
      "text/plain": [
       "46.80717362124287"
      ]
     },
     "execution_count": 9,
     "metadata": {},
     "output_type": "execute_result"
    }
   ],
   "source": [
    "random.uniform(-90,90)"
   ]
  },
  {
   "cell_type": "code",
   "execution_count": 10,
   "id": "a0baa93f",
   "metadata": {},
   "outputs": [],
   "source": [
    "# Import the NumPy module.\n",
    "import numpy as np"
   ]
  },
  {
   "cell_type": "code",
   "execution_count": 12,
   "id": "abc91be1",
   "metadata": {},
   "outputs": [],
   "source": [
    "# (gdmofos) The NumPy module has a built-in random module, and supplements the built-in Python random module. There is no need to import the random module if we import the NumPy module, as it's redundant."
   ]
  },
  {
   "cell_type": "code",
   "execution_count": 11,
   "id": "d2c9779c",
   "metadata": {},
   "outputs": [
    {
     "data": {
      "text/plain": [
       "-50"
      ]
     },
     "execution_count": 11,
     "metadata": {},
     "output_type": "execute_result"
    }
   ],
   "source": [
    "# Now, with NumPy!\n",
    "random.randint(-90, 90)"
   ]
  },
  {
   "cell_type": "code",
   "execution_count": 14,
   "id": "0cd024be",
   "metadata": {},
   "outputs": [
    {
     "data": {
      "text/plain": [
       "0.3390457818503835"
      ]
     },
     "execution_count": 14,
     "metadata": {},
     "output_type": "execute_result"
    }
   ],
   "source": [
    "# Now, with Numpy!\n",
    "random.random()"
   ]
  },
  {
   "cell_type": "code",
   "execution_count": 15,
   "id": "20345339",
   "metadata": {},
   "outputs": [
    {
     "data": {
      "text/plain": [
       "36.09711339675853"
      ]
     },
     "execution_count": 15,
     "metadata": {},
     "output_type": "execute_result"
    }
   ],
   "source": [
    "np.random.uniform(-90.000, 90.000)"
   ]
  },
  {
   "cell_type": "code",
   "execution_count": 16,
   "id": "6bf7ee4a",
   "metadata": {},
   "outputs": [
    {
     "data": {
      "text/plain": [
       "-25.083929735701204"
      ]
     },
     "execution_count": 16,
     "metadata": {},
     "output_type": "execute_result"
    }
   ],
   "source": [
    "# Another option is a little easier to understand\n",
    "np.random.uniform(low=-90, high=90)"
   ]
  },
  {
   "cell_type": "code",
   "execution_count": 17,
   "id": "d3ea401a",
   "metadata": {},
   "outputs": [
    {
     "data": {
      "text/plain": [
       "array([  7.45824855, -78.66873044,  37.32811105, -14.35142827,\n",
       "       -20.71474987,  32.90182056,  25.91245482,   6.95041305,\n",
       "        26.33791516,  71.81093315,  44.60313485, -39.97292658,\n",
       "        87.47317525, -54.51371514,  32.68162179, -66.77656938,\n",
       "         7.39987377,  31.45960442, -80.23466717,  50.15162638,\n",
       "        75.17085131,  45.12208347, -16.36134331,  -3.31102715,\n",
       "        70.09134031,  34.74135621,  -7.44349835, -72.47779026,\n",
       "        62.72789093,  40.034597  ,  14.81342246, -28.08536555,\n",
       "       -42.62020715,  48.96851628,  16.83350371,  -1.95263419,\n",
       "       -45.03188391,  35.05563472,  -5.28447032, -46.55210853,\n",
       "       -88.56766382, -88.96158425, -36.5720202 ,  -3.70878336,\n",
       "         6.24421345,  66.44507394, -13.14989201, -40.83471623,\n",
       "       -14.17594878,   0.67859044])"
      ]
     },
     "execution_count": 17,
     "metadata": {},
     "output_type": "execute_result"
    }
   ],
   "source": [
    "# To generate more than one floating-point decimal number\n",
    "np.random.uniform(-90.000, 90.000, size=50)"
   ]
  },
  {
   "cell_type": "code",
   "execution_count": 18,
   "id": "c7889929",
   "metadata": {},
   "outputs": [],
   "source": [
    "# Import timeit to test how long running the code takes\n",
    "import timeit"
   ]
  },
  {
   "cell_type": "code",
   "execution_count": 19,
   "id": "208f65de",
   "metadata": {},
   "outputs": [
    {
     "name": "stdout",
     "output_type": "stream",
     "text": [
      "12.7 µs ± 51.8 ns per loop (mean ± std. dev. of 7 runs, 100,000 loops each)\n"
     ]
    }
   ],
   "source": [
    "%timeit np.random.uniform(-90.000, 90.000, size=1500)"
   ]
  },
  {
   "cell_type": "code",
   "execution_count": 20,
   "id": "ff21cdb7",
   "metadata": {},
   "outputs": [
    {
     "name": "stdout",
     "output_type": "stream",
     "text": [
      "1.08 ms ± 3.91 µs per loop (mean ± std. dev. of 7 runs, 1,000 loops each)\n"
     ]
    }
   ],
   "source": [
    "# Run the while loop (from above) as a function\n",
    "def latitudes(size):\n",
    "    latitudes = []\n",
    "    x = 0\n",
    "    while x < (size):\n",
    "        random_lat = random.randint(-90, 90) + random.random()\n",
    "        latitudes.append(random_lat)\n",
    "        x += 1\n",
    "    return latitudes\n",
    "# Call the function with 1500\n",
    "%timeit latitudes(1500)"
   ]
  },
  {
   "cell_type": "code",
   "execution_count": null,
   "id": "148e580f",
   "metadata": {},
   "outputs": [],
   "source": [
    "# So using numpy rando was 100x faster!"
   ]
  },
  {
   "cell_type": "code",
   "execution_count": 22,
   "id": "279f47d0",
   "metadata": {},
   "outputs": [
    {
     "name": "stdout",
     "output_type": "stream",
     "text": [
      "71 µs ± 285 ns per loop (mean ± std. dev. of 7 runs, 10,000 loops each)\n"
     ]
    }
   ],
   "source": [
    "# Skill Drill: Refactor the code for the while loop with the %timeit magic command and write a for loop that will generate the 1,500 latitudes.\n",
    "# or maybe just 100, thanks.\n",
    "def latitudes(size):\n",
    "    latitudes = []\n",
    "    x = 0\n",
    "    while x < (100):\n",
    "        random_lat = random.randint(-90, 90) + random.random()\n",
    "        latitudes.append(random_lat)\n",
    "        x += 1\n",
    "    return latitudes\n",
    "%timeit latitudes(1500)"
   ]
  },
  {
   "cell_type": "code",
   "execution_count": 1,
   "id": "56df6625",
   "metadata": {},
   "outputs": [],
   "source": [
    "# Create Latitude and Longitude Combinations\n",
    "# Import the dependencies.\n",
    "import pandas as pd\n",
    "import matplotlib.pyplot as plt\n",
    "import numpy as np"
   ]
  },
  {
   "cell_type": "code",
   "execution_count": null,
   "id": "9d5037b8",
   "metadata": {},
   "outputs": [],
   "source": []
  }
 ],
 "metadata": {
  "kernelspec": {
   "display_name": "Python 3 (ipykernel)",
   "language": "python",
   "name": "python3"
  },
  "language_info": {
   "codemirror_mode": {
    "name": "ipython",
    "version": 3
   },
   "file_extension": ".py",
   "mimetype": "text/x-python",
   "name": "python",
   "nbconvert_exporter": "python",
   "pygments_lexer": "ipython3",
   "version": "3.9.7"
  }
 },
 "nbformat": 4,
 "nbformat_minor": 5
}
